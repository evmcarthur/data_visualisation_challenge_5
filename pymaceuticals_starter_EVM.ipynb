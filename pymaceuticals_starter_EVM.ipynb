{
 "cells": [
  {
   "cell_type": "markdown",
   "metadata": {},
   "source": [
    "# Pymaceuticals Inc.\n",
    "---\n",
    "\n",
    "### Analysis\n",
    "\n",
    "- Add your analysis here.\n",
    " "
   ]
  },
  {
   "cell_type": "code",
   "execution_count": null,
   "metadata": {},
   "outputs": [],
   "source": [
    "# Dependencies and Setup\n",
    "import matplotlib.pyplot as plt\n",
    "import pandas as pd\n",
    "import scipy.stats as st\n",
    "\n",
    "# Study data files\n",
    "mouse_metadata_path = \"data/Mouse_metadata.csv\"\n",
    "study_results_path = \"data/Study_results.csv\"\n",
    "\n",
    "# Read the mouse data and the study results\n",
    "mouse_metadata = pd.read_csv(mouse_metadata_path)\n",
    "study_results = pd.read_csv(study_results_path)\n",
    "\n",
    "# Combine the data into a single dataset\n",
    "mouse_data_complete =pd.merge(mouse_metadata, study_results, how ='right', on =['Mouse ID', 'Mouse ID'])\n",
    "\n",
    "# Display the data table for preview\n",
    "mouse_data_complete"
   ]
  },
  {
   "cell_type": "code",
   "execution_count": null,
   "metadata": {},
   "outputs": [],
   "source": [
    "# Checking the number of mice.\n",
    "mouse_count = mouse_data_complete['Mouse ID'].nunique()\n",
    "print(mouse_count)"
   ]
  },
  {
   "cell_type": "code",
   "execution_count": null,
   "metadata": {},
   "outputs": [],
   "source": [
    "# Getting the duplicate mice by ID number that shows up for Mouse ID and Timepoint. \n",
    "mouse_count_duplicates= mouse_data_complete[mouse_data_complete.duplicated('Mouse ID')]\n",
    "mouse_count_duplicates"
   ]
  },
  {
   "cell_type": "code",
   "execution_count": null,
   "metadata": {},
   "outputs": [],
   "source": [
    "# Optional: Get all the data for the duplicate mouse ID. \n",
    "mouse_ID_duplicates= mouse_data_complete[mouse_data_complete.duplicated(subset=['Mouse ID','Timepoint'],keep=False)]\n",
    "\n",
    "mouse_ID_duplicates"
   ]
  },
  {
   "cell_type": "code",
   "execution_count": null,
   "metadata": {},
   "outputs": [],
   "source": [
    "# Create a clean DataFrame by dropping the duplicate mouse by its ID.\n",
    "clean_mouse_data= mouse_data_complete.drop_duplicates(subset=['Mouse ID','Timepoint'], keep='last')\n",
    "clean_mouse_data.head()"
   ]
  },
  {
   "cell_type": "code",
   "execution_count": null,
   "metadata": {},
   "outputs": [],
   "source": [
    "# Checking the number of mice in the clean DataFrame.\n",
    "clean_mouse_data.count()"
   ]
  },
  {
   "cell_type": "markdown",
   "metadata": {},
   "source": [
    "## Summary Statistics"
   ]
  },
  {
   "cell_type": "code",
   "execution_count": null,
   "metadata": {},
   "outputs": [],
   "source": [
    "# Generate a summary statistics table of mean, median, variance, standard deviation, and SEM of the tumor volume for each regimen\n",
    "# Use groupby and summary statistical methods to calculate the following properties of each drug regimen: \n",
    "# mean, median, variance, standard deviation, and SEM of the tumor volume. \n",
    "# Assemble the resulting series into a single summary DataFrame.\n",
    "# Group the data by Drug Regimen and calculate the summary statistics\n",
    "mean_T_vol = clean_mouse_data['Tumor Volume (mm3)'].groupby(clean_mouse_data['Drug Regimen']).mean()\n",
    "medi_T_vol= clean_mouse_data['Tumor Volume (mm3)'].groupby(clean_mouse_data['Drug Regimen']).median()\n",
    "var_vol_var =clean_mouse_data['Tumor Volume (mm3)'].groupby(clean_mouse_data['Drug Regimen']).var()\n",
    "T_vol_st_dev = clean_mouse_data['Tumor Volume (mm3)'].groupby(clean_mouse_data['Drug Regimen']).std()\n",
    "T_vol_st_err = clean_mouse_data['Tumor Volume (mm3)'].groupby(clean_mouse_data['Drug Regimen']).sem()\n",
    "\n",
    "summary_stats_df = pd.DataFrame({\"Mean Tumor Volume\": mean_T_vol,\n",
    "                     \"Median Tumor Volume\":medi_T_vol,\n",
    "                     \"Tumor Volume Variance\": var_vol_var,\n",
    "                     \"Tumor Volume Std. Dev.\": T_vol_st_dev,\n",
    "                     \"Tumor Volume Std. Err.\":T_vol_st_err})\n",
    "\n",
    "# Display the summary statistics\n",
    "summary_stats_df"
   ]
  },
  {
   "cell_type": "code",
   "execution_count": null,
   "metadata": {},
   "outputs": [],
   "source": [
    "# Using the aggregation method, produce the same summary statistics in a single line.\n",
    "summary_aggregation_df=clean_mouse_data.groupby(['Drug Regimen'])[['Tumor Volume (mm3)']].agg(['mean','median','var','std','sem'])\n",
    "summary_aggregation_df"
   ]
  },
  {
   "cell_type": "markdown",
   "metadata": {},
   "source": [
    "## Bar and Pie Charts"
   ]
  },
  {
   "cell_type": "code",
   "execution_count": null,
   "metadata": {},
   "outputs": [],
   "source": [
    "# Generate a bar plot showing the total number of timepoints for all mice tested for each drug regimen using Pandas.\n",
    "total_timepoints = clean_mouse_data['Drug Regimen'].value_counts()\n",
    "total_timepoints"
   ]
  },
  {
   "cell_type": "code",
   "execution_count": null,
   "metadata": {},
   "outputs": [],
   "source": [
    "# Generate a bar plot showing the total number of timepoints for all mice tested for each drug regimen using pyplot.\n",
    "bar_plot=total_timepoints.plot.bar()\n",
    "plt.xlabel('Drug Regimen')\n",
    "plt.ylabel('Number of mice')"
   ]
  },
  {
   "cell_type": "code",
   "execution_count": null,
   "metadata": {},
   "outputs": [],
   "source": [
    "# Generate a pie plot showing the distribution of female versus male mice using Pandas\n",
    "pie_plot = clean_mouse_data['Sex'].value_counts()\n",
    "pie_plot.plot.pie(autopct=\"%1.1f%%\")"
   ]
  },
  {
   "cell_type": "code",
   "execution_count": null,
   "metadata": {},
   "outputs": [],
   "source": [
    "# Generate a pie plot showing the distribution of female versus male mice using pyplot\n",
    "labels = ['Female', 'Male']\n",
    "numbers = [49.3,50.7]\n",
    "plot= pie_plot.plot.pie(y='Mouse Count', autopct=\"%1.1f%%\")\n",
    "plt.ylabel=('Sex')\n",
    "plt.show()"
   ]
  },
  {
   "cell_type": "markdown",
   "metadata": {},
   "source": [
    "## Quartiles, Outliers and Boxplots"
   ]
  },
  {
   "cell_type": "code",
   "execution_count": null,
   "metadata": {},
   "outputs": [],
   "source": [
    "#Create a grouped DataFrame that shows the last (greatest) time point for each mouse. \n",
    "max_timepoints = clean_mouse_data.groupby('Mouse ID')['Timepoint'].agg('max')\n",
    "max_timepoints\n",
    "\n",
    "#Merge this grouped DataFrame with the original cleaned DataFrame.\n",
    "merged_df = pd.merge(clean_mouse_data, max_timepoints, on='Mouse ID')\n",
    "\n",
    "# View the merged DataFrame\n",
    "merged_df.head()"
   ]
  },
  {
   "cell_type": "code",
   "execution_count": null,
   "metadata": {},
   "outputs": [],
   "source": [
    "#Create a list that holds the treatment names as well as a second, empty list to hold the tumour volume data.\n",
    "treatments = [\"Capomulin\", \"Ramicane\",\"Infubinol\",\"Ceftamin\"]\n",
    "df_filtered = clean_mouse_data[clean_mouse_data['Drug Regimen'].isin(treatments)]"
   ]
  },
  {
   "cell_type": "code",
   "execution_count": null,
   "metadata": {},
   "outputs": [],
   "source": [
    "# Create a new column to store the maximum Final tumor volume for each mouse\n",
    "# Start by getting the last (greatest) timepoint for each mouse\n",
    "last_timepoint = df_filtered.groupby('Mouse ID')['Timepoint'].max()\n",
    "tumor_vol_data = []\n",
    "merged_df = pd.merge(last_timepoint, df_filtered, on=['Mouse ID', 'Timepoint'], how='left')\n",
    "for treatment in treatments:\n",
    "    tumor_vol_data.append(merged_df.loc[merged_df['Drug Regimen'] == treatment]['Tumor Volume (mm3)'].tolist())"
   ]
  },
  {
   "cell_type": "code",
   "execution_count": null,
   "metadata": {},
   "outputs": [],
   "source": [
    "# Merge this group df with the original DataFrame to get the tumor volume at the last timepoint\n",
    "tumor_vol_df = pd.DataFrame({'Capomulin': tumor_vol_data[0], 'Ramicane': tumor_vol_data[1], 'Infubinol': tumor_vol_data[2], 'Ceftamin': tumor_vol_data[3]})"
   ]
  },
  {
   "cell_type": "code",
   "execution_count": null,
   "metadata": {},
   "outputs": [],
   "source": [
    "#extract final tumor volumes for each treatment\n",
    "capomulin_volumes = tumor_vol_df.loc[:, 'Capomulin']\n",
    "ramicane_volumes = tumor_vol_df.loc[:, 'Ramicane']\n",
    "infubinol_volumes = tumor_vol_df.loc[:, 'Infubinol']\n",
    "ceftamin_volumes = tumor_vol_df.loc[:, 'Ceftamin']"
   ]
  },
  {
   "cell_type": "code",
   "execution_count": null,
   "metadata": {},
   "outputs": [],
   "source": [
    "#Subset for each treatment\n",
    "capomulin_subset = tumor_vol_df[['Capomulin']]\n",
    "ramicane_subset = tumor_vol_df[['Ramicane']]\n",
    "infubinol_subset = tumor_vol_df[['Infubinol']]\n",
    "ceftamin_subset = tumor_vol_df[['Ceftamin']]"
   ]
  },
  {
   "cell_type": "code",
   "execution_count": null,
   "metadata": {},
   "outputs": [],
   "source": [
    "#Set quartile range for each treatment - Q1 and Q3 \n",
    "capomulin_q1 = capomulin_subset.quantile(0.25)\n",
    "capomulin_q3 = capomulin_subset.quantile(0.75)\n",
    "ramicane_q1 = ramicane_subset.quantile(0.25)\n",
    "ramicane_q3 = ramicane_subset.quantile(0.75)\n",
    "infubinol_q1 = infubinol_subset.quantile(0.25)\n",
    "infubinol_q3 = infubinol_subset.quantile(0.75)\n",
    "ceftamin_q1 = ceftamin_subset.quantile(0.25)\n",
    "ceftamin_q3 = ceftamin_subset.quantile(0.75)"
   ]
  },
  {
   "cell_type": "code",
   "execution_count": null,
   "metadata": {},
   "outputs": [],
   "source": [
    "#Calculate interquartile range for each treatment\n",
    "capomulin_iqr = capomulin_q3 - capomulin_q1\n",
    "ramicane_iqr = ramicane_q3 - ramicane_q1\n",
    "infubinol_iqr = infubinol_q3 - infubinol_q1\n",
    "ceftamin_iqr = ceftamin_q3 - ceftamin_q1"
   ]
  },
  {
   "cell_type": "code",
   "execution_count": null,
   "metadata": {},
   "outputs": [],
   "source": [
    "capomulin_lower_bound = capomulin_q1 - (1.5 * capomulin_iqr)\n",
    "capomulin_upper_bound = capomulin_q3 + (1.5 * capomulin_iqr)\n",
    "ramicane_lower_bound = ramicane_q1 - (1.5 * ramicane_iqr)\n",
    "ramicane_upper_bound = ramicane_q3 + (1.5 * ramicane_iqr)\n",
    "infubinol_lower_bound = infubinol_q1 - (1.5 * infubinol_iqr)\n",
    "infubinol_upper_bound = infubinol_q3 + (1.5 * infubinol_iqr)\n",
    "ceftamin_lower_bound = ceftamin_q1 - (1.5 * ceftamin_iqr)\n",
    "ceftamin_upper_bound = ceftamin_q3 +(1.5* ceftamin_iqr)"
   ]
  },
  {
   "cell_type": "code",
   "execution_count": null,
   "metadata": {},
   "outputs": [],
   "source": [
    "# Create a boxplot for each treatment\n",
    "plt.boxplot([tumor_vol_df[treatment] for treatment in treatments])\n",
    "\n",
    "# Set the x-axis labels to the treatments\n",
    "plt.xticks(range(1, len(treatments) + 1), treatments)\n",
    "\n",
    "# Add a y-axis label\n",
    "plt.ylabel= ('Final Tumor Volume')\n",
    "\n",
    "# Show the plot\n",
    "plt.show()\n"
   ]
  },
  {
   "cell_type": "markdown",
   "metadata": {},
   "source": [
    "## Line and Scatter Plots"
   ]
  },
  {
   "cell_type": "code",
   "execution_count": null,
   "metadata": {},
   "outputs": [],
   "source": [
    "# Generate a line plot of tumor volume vs. time point for a mouse treated with Capomulin\n",
    "capomulin_df = clean_mouse_data[clean_mouse_data['Drug Regimen'] == 'Capomulin']\n",
    "\n",
    "mouse_id =\"b128\"\n",
    "mouse_data = capomulin_df[capomulin_df['Mouse ID'] == mouse_id]\n",
    "mouse_data\n"
   ]
  },
  {
   "cell_type": "code",
   "execution_count": null,
   "metadata": {
    "scrolled": true
   },
   "outputs": [],
   "source": [
    "# Create a line plot of tumor volume vs. time point for the chosen mouse\n",
    "plt.plot(mouse_data['Timepoint'], mouse_data['Tumor Volume (mm3)'])\n",
    "\n",
    "# Set the x-axis label to \"Timepoint (days)\"\n",
    "plt.xlabel('Timepoint (days)')\n",
    "\n",
    "# Set the y-axis label to \"Tumor Volume (mm3)\"\n",
    "plt.ylabel('Tumor Volume (mm3)')\n",
    "\n",
    "# Show the plot\n",
    "plt.show()"
   ]
  },
  {
   "cell_type": "code",
   "execution_count": null,
   "metadata": {},
   "outputs": [],
   "source": [
    "# Generate a scatter plot of average tumor volume vs. mouse weight for the Capomulin regimen\n",
    "#capomulin_df = clean_mouse_data[clean_mouse_data['Drug Regimen'] == 'Capomulin']\n",
    "\n",
    "mouse_group = capomulin_df.groupby('Mouse ID').agg({'Tumor Volume (mm3)': 'mean', 'Weight (g)': 'mean'})\n",
    "\n",
    "# Create a scatter plot of average tumor volume vs. mouse weight for the Capomulin regimen\n",
    "plt.scatter(mouse_group['Weight (g)'], mouse_group['Tumor Volume (mm3)'])\n",
    "\n",
    "# Set the x-axis label to \"Weight (g)\"\n",
    "plt.xlabel=('Weight (g)')\n",
    "\n",
    "# Set the y-axis label to \"Tumor Volume (mm3)\"\n",
    "plt.ylabel=('Tumor Volume (mm3)')\n",
    "\n",
    "# Set the plot title\n",
    "plt.title=('Average Tumor Volume vs. Mouse Weight for Capomulin Regimen')\n",
    "\n",
    "# Show the plot\n",
    "plt.show()"
   ]
  },
  {
   "cell_type": "markdown",
   "metadata": {},
   "source": [
    "## Correlation and Regression"
   ]
  },
  {
   "cell_type": "code",
   "execution_count": null,
   "metadata": {},
   "outputs": [],
   "source": [
    "# Calculate the correlation coefficient and linear regression model \n",
    "# for mouse weight and average tumor volume for the Capomulin regimen\n",
    "slope, intercept, r_value, p_value, std_err = linregress(mouse_group['Weight (g)'], mouse_group['Tumor Volume (mm3)'])\n",
    "\n",
    "# Create a scatter plot of average tumor volume vs. mouse weight for the Capomulin regimen\n",
    "plt.scatter(mouse_group['Weight (g)'], mouse_group['Tumor Volume (mm3)'])\n",
    "\n",
    "# Calculate the predicted tumor volume values for the regression line\n",
    "regression_values = mouse_group['Weight (g)'] * slope + intercept\n",
    "\n",
    "# Plot the regression line\n",
    "plt.plot(mouse_group['Weight (g)'], regression_values, color='red')\n",
    "\n",
    "# Set the x-axis label to \"Weight (g)\"\n",
    "plt.xlabel=('Weight (g)')\n",
    "\n",
    "# Set the y-axis label to \"Tumor Volume (mm3)\"\n",
    "plt.ylabel=('Tumor Volume (mm3)')\n",
    "\n",
    "# Set the plot title\n",
    "plt.title=('Average Tumor Volume vs. Mouse Weight for Capomulin Regimen')\n",
    "\n",
    "# Show the plot\n",
    "plt.show()"
   ]
  }
 ],
 "metadata": {
  "anaconda-cloud": {},
  "kernelspec": {
   "display_name": "Python 3 (ipykernel)",
   "language": "python",
   "name": "python3"
  },
  "language_info": {
   "codemirror_mode": {
    "name": "ipython",
    "version": 3
   },
   "file_extension": ".py",
   "mimetype": "text/x-python",
   "name": "python",
   "nbconvert_exporter": "python",
   "pygments_lexer": "ipython3",
   "version": "3.9.13"
  }
 },
 "nbformat": 4,
 "nbformat_minor": 4
}
